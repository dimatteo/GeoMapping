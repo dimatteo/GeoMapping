{
 "cells": [
  {
   "cell_type": "markdown",
   "metadata": {},
   "source": [
    "# First test of GIS with geoplot\n",
    "In here we try to perform simple operations with an high level package, called `geoplot`"
   ]
  },
  {
   "cell_type": "code",
   "execution_count": 2,
   "metadata": {},
   "outputs": [],
   "source": [
    "import geoplot as gplt\n",
    "\n",
    "%matplotlib inline"
   ]
  },
  {
   "cell_type": "markdown",
   "metadata": {},
   "source": [
    "Prepare raw data, in the form of a shapefile converted into geopandas"
   ]
  },
  {
   "cell_type": "code",
   "execution_count": 3,
   "metadata": {
    "collapsed": true
   },
   "outputs": [],
   "source": [
    "import geopandas as gpd"
   ]
  },
  {
   "cell_type": "code",
   "execution_count": 11,
   "metadata": {},
   "outputs": [
    {
     "data": {
      "text/html": [
       "<div>\n",
       "<table border=\"1\" class=\"dataframe\">\n",
       "  <thead>\n",
       "    <tr style=\"text-align: right;\">\n",
       "      <th></th>\n",
       "      <th>BoroCode</th>\n",
       "      <th>BoroName</th>\n",
       "      <th>Shape_Area</th>\n",
       "      <th>Shape_Leng</th>\n",
       "      <th>geometry</th>\n",
       "    </tr>\n",
       "  </thead>\n",
       "  <tbody>\n",
       "    <tr>\n",
       "      <th>0</th>\n",
       "      <td>5</td>\n",
       "      <td>Staten Island</td>\n",
       "      <td>1.623853e+09</td>\n",
       "      <td>330385.03697</td>\n",
       "      <td>(POLYGON ((-74.05050806403247 40.5664220341608...</td>\n",
       "    </tr>\n",
       "    <tr>\n",
       "      <th>1</th>\n",
       "      <td>4</td>\n",
       "      <td>Queens</td>\n",
       "      <td>3.049947e+09</td>\n",
       "      <td>861038.47930</td>\n",
       "      <td>(POLYGON ((-73.83668274106708 40.5949466970158...</td>\n",
       "    </tr>\n",
       "    <tr>\n",
       "      <th>2</th>\n",
       "      <td>3</td>\n",
       "      <td>Brooklyn</td>\n",
       "      <td>1.959432e+09</td>\n",
       "      <td>726568.94634</td>\n",
       "      <td>(POLYGON ((-73.8670614947212 40.58208797679338...</td>\n",
       "    </tr>\n",
       "    <tr>\n",
       "      <th>3</th>\n",
       "      <td>1</td>\n",
       "      <td>Manhattan</td>\n",
       "      <td>6.364422e+08</td>\n",
       "      <td>358532.95642</td>\n",
       "      <td>(POLYGON ((-74.01092841268033 40.6844914725429...</td>\n",
       "    </tr>\n",
       "    <tr>\n",
       "      <th>4</th>\n",
       "      <td>2</td>\n",
       "      <td>Bronx</td>\n",
       "      <td>1.186804e+09</td>\n",
       "      <td>464517.89055</td>\n",
       "      <td>(POLYGON ((-73.89680883223775 40.7958084451597...</td>\n",
       "    </tr>\n",
       "  </tbody>\n",
       "</table>\n",
       "</div>"
      ],
      "text/plain": [
       "   BoroCode       BoroName    Shape_Area    Shape_Leng  \\\n",
       "0         5  Staten Island  1.623853e+09  330385.03697   \n",
       "1         4         Queens  3.049947e+09  861038.47930   \n",
       "2         3       Brooklyn  1.959432e+09  726568.94634   \n",
       "3         1      Manhattan  6.364422e+08  358532.95642   \n",
       "4         2          Bronx  1.186804e+09  464517.89055   \n",
       "\n",
       "                                            geometry  \n",
       "0  (POLYGON ((-74.05050806403247 40.5664220341608...  \n",
       "1  (POLYGON ((-73.83668274106708 40.5949466970158...  \n",
       "2  (POLYGON ((-73.8670614947212 40.58208797679338...  \n",
       "3  (POLYGON ((-74.01092841268033 40.6844914725429...  \n",
       "4  (POLYGON ((-73.89680883223775 40.7958084451597...  "
      ]
     },
     "execution_count": 11,
     "metadata": {},
     "output_type": "execute_result"
    }
   ],
   "source": [
    "#cities = gpd.read_file('data/citiesx010g.shp')\n",
    "boroughs = gpd.read_file(\"data/boroughs.geojson\", driver='GeoJSON')\n",
    "#continental_cities = cities[cities['STATE'].map(lambda s: s not in ['PR', 'AK', 'HI', 'VI'])]\n",
    "#continental_cities = continental_cities[continental_cities['POP_2010'] >= 100000]\n",
    "boroughs"
   ]
  }
 ],
 "metadata": {
  "anaconda-cloud": {},
  "kernelspec": {
   "display_name": "Python 3",
   "language": "python",
   "name": "python3"
  },
  "language_info": {
   "codemirror_mode": {
    "name": "ipython",
    "version": 3
   },
   "file_extension": ".py",
   "mimetype": "text/x-python",
   "name": "python",
   "nbconvert_exporter": "python",
   "pygments_lexer": "ipython3",
   "version": "3.6.1"
  }
 },
 "nbformat": 4,
 "nbformat_minor": 1
}
